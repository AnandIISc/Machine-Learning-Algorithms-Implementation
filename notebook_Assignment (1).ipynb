{
 "cells": [
  {
   "cell_type": "code",
   "execution_count": 1,
   "metadata": {},
   "outputs": [],
   "source": [
    "import numpy as np\n"
   ]
  },
  {
   "cell_type": "code",
   "execution_count": 2,
   "metadata": {},
   "outputs": [],
   "source": [
    "data=np.loadtxt(\"D:\\\\Machine Learning by coding Ninja\\\\Linear regression\\\\0000000000002329_training_diabetes_x_y_train (1).csv\",delimiter=\",\")\n",
    "x_test=np.loadtxt(\"D:\\\\Machine Learning by coding Ninja\\\\Linear regression\\\\0000000000002329_test_diabetes_x_test (1).csv\",delimiter=\",\")"
   ]
  },
  {
   "cell_type": "code",
   "execution_count": 3,
   "metadata": {},
   "outputs": [
    {
     "data": {
      "text/plain": [
       "(331, 11)"
      ]
     },
     "execution_count": 3,
     "metadata": {},
     "output_type": "execute_result"
    }
   ],
   "source": [
    "data.shape"
   ]
  },
  {
   "cell_type": "code",
   "execution_count": 4,
   "metadata": {},
   "outputs": [
    {
     "data": {
      "text/plain": [
       "(111, 10)"
      ]
     },
     "execution_count": 4,
     "metadata": {},
     "output_type": "execute_result"
    }
   ],
   "source": [
    "x_test.shape"
   ]
  },
  {
   "cell_type": "code",
   "execution_count": 20,
   "metadata": {},
   "outputs": [
    {
     "data": {
      "text/plain": [
       "((331, 10), (331, 1))"
      ]
     },
     "execution_count": 20,
     "metadata": {},
     "output_type": "execute_result"
    }
   ],
   "source": [
    "x_train=data[:,0:10]\n",
    "y_train=data[:,10:]\n",
    "x_train.shape,y_train.shape"
   ]
  },
  {
   "cell_type": "code",
   "execution_count": 21,
   "metadata": {},
   "outputs": [
    {
     "data": {
      "text/plain": [
       "array([[105.52974799],\n",
       "       [105.8039198 ],\n",
       "       [178.60857225],\n",
       "       [ 79.3828781 ],\n",
       "       [ 52.95868706],\n",
       "       [ 98.87263854],\n",
       "       [150.71755448],\n",
       "       [ 34.86515216],\n",
       "       [113.13535727],\n",
       "       [161.50184038],\n",
       "       [135.8615611 ],\n",
       "       [ 94.71592222],\n",
       "       [138.48094422],\n",
       "       [141.37441723],\n",
       "       [158.76862662],\n",
       "       [171.65288616],\n",
       "       [106.44835654],\n",
       "       [103.92659639],\n",
       "       [ 95.38693889],\n",
       "       [167.40118092],\n",
       "       [166.53426278],\n",
       "       [101.53464712],\n",
       "       [252.45035972],\n",
       "       [147.02258547],\n",
       "       [214.78906632],\n",
       "       [161.27557106],\n",
       "       [210.61315228],\n",
       "       [ 71.78091585],\n",
       "       [189.65032431],\n",
       "       [206.6134259 ],\n",
       "       [219.98643455],\n",
       "       [168.80192534],\n",
       "       [116.84846127],\n",
       "       [178.74399639],\n",
       "       [ 77.03247418],\n",
       "       [ 59.54633214],\n",
       "       [111.5673781 ],\n",
       "       [156.95186739],\n",
       "       [154.59591259],\n",
       "       [198.94457493],\n",
       "       [115.53884017],\n",
       "       [153.46699024],\n",
       "       [ 84.96179518],\n",
       "       [113.70337192],\n",
       "       [142.14155617],\n",
       "       [147.31040378],\n",
       "       [ 82.78072358],\n",
       "       [ 77.89237327],\n",
       "       [128.99006192],\n",
       "       [261.58712282],\n",
       "       [213.31187775],\n",
       "       [243.98791257],\n",
       "       [167.68132094],\n",
       "       [183.69712124],\n",
       "       [166.85926884],\n",
       "       [202.11440188],\n",
       "       [220.39235543],\n",
       "       [172.40288024],\n",
       "       [176.60897931],\n",
       "       [109.04656567],\n",
       "       [276.37789836],\n",
       "       [ 90.99941821],\n",
       "       [289.37221147],\n",
       "       [119.56253351],\n",
       "       [ 75.45687948],\n",
       "       [180.78598759],\n",
       "       [146.62093081],\n",
       "       [156.42382465],\n",
       "       [ 41.079036  ],\n",
       "       [247.90645166],\n",
       "       [207.99121432],\n",
       "       [ 90.09641075],\n",
       "       [222.24169638],\n",
       "       [189.86378006],\n",
       "       [182.2695376 ],\n",
       "       [164.39881376],\n",
       "       [190.27066587],\n",
       "       [105.4486795 ],\n",
       "       [199.86136394],\n",
       "       [245.796388  ],\n",
       "       [123.20281334],\n",
       "       [119.41031908],\n",
       "       [145.86620411],\n",
       "       [206.19247291],\n",
       "       [150.86282453],\n",
       "       [142.23221646],\n",
       "       [154.56874616],\n",
       "       [115.29233396],\n",
       "       [134.07810123],\n",
       "       [118.42225404],\n",
       "       [203.5767555 ],\n",
       "       [170.66483797],\n",
       "       [127.409797  ],\n",
       "       [ 57.13507634],\n",
       "       [231.92226503],\n",
       "       [185.20713654],\n",
       "       [187.37494558],\n",
       "       [ 83.55920849],\n",
       "       [185.42585685],\n",
       "       [217.34035639],\n",
       "       [108.86715354],\n",
       "       [ 80.98714568],\n",
       "       [127.05524123],\n",
       "       [242.00738792],\n",
       "       [155.9723414 ],\n",
       "       [125.67575276],\n",
       "       [246.41235643],\n",
       "       [234.963933  ],\n",
       "       [191.51298252],\n",
       "       [168.33254477],\n",
       "       [163.02965178]])"
      ]
     },
     "execution_count": 21,
     "metadata": {},
     "output_type": "execute_result"
    }
   ],
   "source": [
    "from sklearn.linear_model import LinearRegression\n",
    "alg1=LinearRegression()\n",
    "alg1.fit(x_train,y_train)\n",
    "y_pred=alg1.predict(x_test)\n",
    "y_pred\n",
    "\n",
    "\n",
    "\n"
   ]
  },
  {
   "cell_type": "code",
   "execution_count": 24,
   "metadata": {},
   "outputs": [],
   "source": [
    "alg1.score(x_test,y_pred)\n",
    "\n",
    "y_prediction_value =alg1.predict(x_test).round(5)"
   ]
  },
  {
   "cell_type": "code",
   "execution_count": 25,
   "metadata": {},
   "outputs": [],
   "source": [
    "np.savetxt(\"D:\\\\Machine Learning by coding Ninja\\\\Linear regression\\\\Y_predict.csv\",y_prediction_value)"
   ]
  },
  {
   "cell_type": "code",
   "execution_count": null,
   "metadata": {},
   "outputs": [],
   "source": []
  }
 ],
 "metadata": {
  "kernelspec": {
   "display_name": "Python 3",
   "language": "python",
   "name": "python3"
  },
  "language_info": {
   "codemirror_mode": {
    "name": "ipython",
    "version": 3
   },
   "file_extension": ".py",
   "mimetype": "text/x-python",
   "name": "python",
   "nbconvert_exporter": "python",
   "pygments_lexer": "ipython3",
   "version": "3.8.5"
  }
 },
 "nbformat": 4,
 "nbformat_minor": 4
}
